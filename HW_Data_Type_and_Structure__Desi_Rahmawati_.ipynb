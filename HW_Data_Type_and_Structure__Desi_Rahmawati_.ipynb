{
  "nbformat": 4,
  "nbformat_minor": 0,
  "metadata": {
    "colab": {
      "name": "HW_Data_Type_and_Structure_<Desi Rahmawati>.ipynb",
      "provenance": []
    },
    "kernelspec": {
      "name": "python3",
      "display_name": "Python 3"
    },
    "language_info": {
      "name": "python"
    }
  },
  "cells": [
    {
      "cell_type": "markdown",
      "source": [
        "#TASK 1 - Medium Level"
      ],
      "metadata": {
        "id": "-Yon8JxZd1rg"
      }
    },
    {
      "cell_type": "code",
      "source": [
        "import pandas as pd\n",
        "import numpy as np"
      ],
      "metadata": {
        "id": "L-6KY9cWUrJQ"
      },
      "execution_count": null,
      "outputs": []
    },
    {
      "cell_type": "code",
      "source": [
        "def check_palindrome_1(string):\n",
        "  reversed_string=string[::-1]\n",
        "  status=1\n",
        "  if(string!=reversed_string):\n",
        "    status=0\n",
        "  return status"
      ],
      "metadata": {
        "id": "Hx1yU79iYL-l"
      },
      "execution_count": null,
      "outputs": []
    },
    {
      "cell_type": "markdown",
      "source": [
        "1. Input: malam"
      ],
      "metadata": {
        "id": "8uthb3aLsLR3"
      }
    },
    {
      "cell_type": "code",
      "source": [
        "string=input('Enter a letter:')\n",
        "if (string==string[::-1]):\n",
        "  print(\"is a Palindrome\")\n",
        "else:\n",
        "  print(\"is not a Palindrome\")"
      ],
      "metadata": {
        "colab": {
          "base_uri": "https://localhost:8080/"
        },
        "id": "djV1no4xcGUf",
        "outputId": "5d85352a-089d-4ba2-9f3c-8796f0c390f3"
      },
      "execution_count": null,
      "outputs": [
        {
          "output_type": "stream",
          "name": "stdout",
          "text": [
            "Enter a letter:malam\n",
            "is a Palindrome\n"
          ]
        }
      ]
    },
    {
      "cell_type": "markdown",
      "source": [
        "2. Input: ABBA"
      ],
      "metadata": {
        "id": "3UHNgL9xsUgV"
      }
    },
    {
      "cell_type": "code",
      "source": [
        "string=input('Enter a letter:')\n",
        "if (string==string[::-1]):\n",
        "  print(\"is a Palindrome\")\n",
        "else:\n",
        "  print(\"is not a Palindrome\")"
      ],
      "metadata": {
        "colab": {
          "base_uri": "https://localhost:8080/"
        },
        "id": "gIzUVu30Y2rA",
        "outputId": "cf134da7-acce-42f9-af52-80d63f10b93d"
      },
      "execution_count": null,
      "outputs": [
        {
          "output_type": "stream",
          "name": "stdout",
          "text": [
            "Enter a letter:ABBA\n",
            "is a Palindrome\n"
          ]
        }
      ]
    },
    {
      "cell_type": "markdown",
      "source": [
        "3. Input: Python"
      ],
      "metadata": {
        "id": "UD3RBcu9sWw2"
      }
    },
    {
      "cell_type": "code",
      "source": [
        "string=input('Enter a letter:')\n",
        "if (string==string[::-1]):\n",
        "  print(\"is a Palindrome\")\n",
        "else:\n",
        "  print(\"is not a Palindrome\")"
      ],
      "metadata": {
        "colab": {
          "base_uri": "https://localhost:8080/"
        },
        "id": "XxX9gHwgY57G",
        "outputId": "43b10b7b-2946-4e5b-f3c6-faa8212d2ff4"
      },
      "execution_count": null,
      "outputs": [
        {
          "output_type": "stream",
          "name": "stdout",
          "text": [
            "Enter a letter:Python\n",
            "is not a Palindrome\n"
          ]
        }
      ]
    },
    {
      "cell_type": "markdown",
      "source": [
        "#Task 2-Low Level"
      ],
      "metadata": {
        "id": "S_l_QJsjd_g9"
      }
    },
    {
      "cell_type": "code",
      "source": [
        "black_list_word=['andi','susi','bola']"
      ],
      "metadata": {
        "id": "vPqBR5cxeGlE"
      },
      "execution_count": null,
      "outputs": []
    },
    {
      "cell_type": "code",
      "source": [
        "statement_1=['andi sedang makan nasi padang',\n",
        "        'sandi sedang makan bermain tenis',\n",
        "        'andi dan sandi sedang makan',\n",
        "        'budi dan susi sedang makan',\n",
        "        'erna sedang berenang',\n",
        "        'raffa sedang bermain bola']"
      ],
      "metadata": {
        "id": "53Yd-8ClbgCP"
      },
      "execution_count": null,
      "outputs": []
    },
    {
      "cell_type": "markdown",
      "source": [
        "1. Kalimat: andi sedang makan nasi padang"
      ],
      "metadata": {
        "id": "yy9CAl3Hre-B"
      }
    },
    {
      "cell_type": "code",
      "source": [
        "letter_1=input('Enter a sentence:')\n",
        "if any(word in letter_1.split() for word in black_list_word):\n",
        "  print('ada black list word')\n",
        "else:\n",
        "  print('tidak ada black list word')"
      ],
      "metadata": {
        "colab": {
          "base_uri": "https://localhost:8080/"
        },
        "id": "k7dZ6F3apulo",
        "outputId": "bb827dbd-8563-45b4-dfac-dea40e2fb305"
      },
      "execution_count": null,
      "outputs": [
        {
          "output_type": "stream",
          "name": "stdout",
          "text": [
            "Enter a sentence:andi sedang makan nasi padang\n",
            "ada black list word\n"
          ]
        }
      ]
    },
    {
      "cell_type": "markdown",
      "source": [
        "2. Kalimat: sandi sedang makan bermain tenis"
      ],
      "metadata": {
        "id": "GgrYZcueryF4"
      }
    },
    {
      "cell_type": "code",
      "source": [
        "letter_1=input('Enter a sentence:')\n",
        "if any(word in letter_1.split() for word in black_list_word):\n",
        "  print('ada black list word')\n",
        "else:\n",
        "  print('tidak ada black list word')"
      ],
      "metadata": {
        "colab": {
          "base_uri": "https://localhost:8080/"
        },
        "id": "w9ibFG4Nr4x_",
        "outputId": "7666182a-d827-4262-d5dd-ccd5bfb2e774"
      },
      "execution_count": null,
      "outputs": [
        {
          "output_type": "stream",
          "name": "stdout",
          "text": [
            "Enter a sentence:sandi sedang makan bermain tenis\n",
            "tidak ada black list word\n"
          ]
        }
      ]
    },
    {
      "cell_type": "markdown",
      "source": [
        "3. Kalimat: andi dan sandi sedang makan"
      ],
      "metadata": {
        "id": "Q6m5CpNislso"
      }
    },
    {
      "cell_type": "code",
      "source": [
        "letter_1=input('Enter a sentence:')\n",
        "if any(word in letter_1.split() for word in black_list_word):\n",
        "  print('ada black list word')\n",
        "else:\n",
        "  print('tidak ada black list word')"
      ],
      "metadata": {
        "colab": {
          "base_uri": "https://localhost:8080/"
        },
        "id": "8SojuHHqsoRW",
        "outputId": "ff4fb4b8-f716-4ccc-9e6e-463847307fd3"
      },
      "execution_count": null,
      "outputs": [
        {
          "output_type": "stream",
          "name": "stdout",
          "text": [
            "Enter a sentence:andi dan sandi sedang makan\n",
            "ada black list word\n"
          ]
        }
      ]
    },
    {
      "cell_type": "markdown",
      "source": [
        "4. Kalimat: budi dan susi sedang makan"
      ],
      "metadata": {
        "id": "7Gcc6xtEswLG"
      }
    },
    {
      "cell_type": "code",
      "source": [
        "letter_1=input('Enter a sentence:')\n",
        "if any(word in letter_1.split() for word in black_list_word):\n",
        "  print('ada black list word')\n",
        "else:\n",
        "  print('tidak ada black list word')"
      ],
      "metadata": {
        "colab": {
          "base_uri": "https://localhost:8080/"
        },
        "id": "jTzdtKz-sy1_",
        "outputId": "5900840d-1c30-484f-f69b-07f4d35752d6"
      },
      "execution_count": null,
      "outputs": [
        {
          "output_type": "stream",
          "name": "stdout",
          "text": [
            "Enter a sentence:budi dan susi sedang makan\n",
            "ada black list word\n"
          ]
        }
      ]
    },
    {
      "cell_type": "markdown",
      "source": [
        "5. Kalimat: erna sedang berenang"
      ],
      "metadata": {
        "id": "hzklYybRs24r"
      }
    },
    {
      "cell_type": "code",
      "source": [
        "letter_1=input('Enter a sentence:')\n",
        "if any(word in letter_1.split() for word in black_list_word):\n",
        "  print('ada black list word')\n",
        "else:\n",
        "  print('tidak ada black list word')"
      ],
      "metadata": {
        "colab": {
          "base_uri": "https://localhost:8080/"
        },
        "id": "gAn2JDhAs8qE",
        "outputId": "73697bd9-091d-4a03-f53c-a7667ba7e96f"
      },
      "execution_count": null,
      "outputs": [
        {
          "output_type": "stream",
          "name": "stdout",
          "text": [
            "Enter a sentence:erna sedang berenang\n",
            "tidak ada black list word\n"
          ]
        }
      ]
    },
    {
      "cell_type": "markdown",
      "source": [
        "6. Kalimat: raffa sedang bermain bola"
      ],
      "metadata": {
        "id": "e_il2QIttCG_"
      }
    },
    {
      "cell_type": "code",
      "source": [
        "letter_1=input('Enter a sentence:')\n",
        "if any(word in letter_1.split() for word in black_list_word):\n",
        "  print('ada black list word')\n",
        "else:\n",
        "  print('tidak ada black list word')"
      ],
      "metadata": {
        "colab": {
          "base_uri": "https://localhost:8080/"
        },
        "id": "zlJawM3NtBbH",
        "outputId": "0859728b-1197-4afb-c714-7fe01ee643dd"
      },
      "execution_count": null,
      "outputs": [
        {
          "output_type": "stream",
          "name": "stdout",
          "text": [
            "Enter a sentence:raffa sedang bermain bola\n",
            "ada black list word\n"
          ]
        }
      ]
    }
  ]
}